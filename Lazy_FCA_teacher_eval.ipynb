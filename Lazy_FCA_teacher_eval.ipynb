{
  "nbformat": 4,
  "nbformat_minor": 0,
  "metadata": {
    "colab": {
      "name": "Lazy_FCA_teacher_eval.ipynb",
      "provenance": [],
      "collapsed_sections": []
    },
    "kernelspec": {
      "name": "python3",
      "display_name": "Python 3"
    },
    "language_info": {
      "name": "python"
    }
  },
  "cells": [
    {
      "cell_type": "code",
      "execution_count": 219,
      "metadata": {
        "id": "EqXxBurn2FXR"
      },
      "outputs": [],
      "source": [
        "import pandas as pd\n",
        "from sklearn.model_selection import KFold\n",
        "from sklearn import model_selection\n",
        "from sklearn import metrics\n",
        "from sklearn.linear_model import LogisticRegression\n",
        "import random\n",
        "from statistics import mean\n",
        "from sklearn.model_selection import train_test_split"
      ]
    },
    {
      "cell_type": "code",
      "source": [
        "column_names = ['en_speaker', 'instructor', 'course', 'semestr', 'size', 'target']\n",
        "df = pd.read_csv('/content/drive/MyDrive/HSE/OSDA/tae.data', names = column_names, sep = '\\t')"
      ],
      "metadata": {
        "id": "NcXUSYbX2NvY"
      },
      "execution_count": 220,
      "outputs": []
    },
    {
      "cell_type": "code",
      "source": [
        "df['size'] = pd.qcut(df['size'], 5, ['Very_Low','Low','Medium','High','Very_High'])"
      ],
      "metadata": {
        "id": "GtylO3hiBWcp"
      },
      "execution_count": 198,
      "outputs": []
    },
    {
      "cell_type": "code",
      "source": [
        "for attr in ['en_speaker', 'instructor', 'course', 'semestr', 'size']:\n",
        "    for i in df[attr].unique():\n",
        "        df[attr + '_' + str(i)] = (df[attr] == i).astype(int)\n",
        "    df = df.drop(attr, axis=1)"
      ],
      "metadata": {
        "id": "tY9F3osv4H_l"
      },
      "execution_count": 199,
      "outputs": []
    },
    {
      "cell_type": "code",
      "source": [
        "def intersection(dict_1, dict_2):\n",
        "  return dict(set(dict_1.items()) & set(dict_2.items()))"
      ],
      "metadata": {
        "id": "SUZFIbIq9_Ob"
      },
      "execution_count": 201,
      "outputs": []
    },
    {
      "cell_type": "code",
      "source": [
        "def subset(dict_1, dict_2):\n",
        "  return dict_1.items() <= dict_2.items()"
      ],
      "metadata": {
        "id": "ftO3M2Iq9_MO"
      },
      "execution_count": 202,
      "outputs": []
    },
    {
      "cell_type": "code",
      "source": [
        "def baseline_algorithm(X_test, X_pos, X_neg):  \n",
        "  predictions = []\n",
        "  for i_obj in range(len(X_test)):\n",
        "\n",
        "    test_extent = X_test[i_obj]\n",
        "    support_pos  = 0\n",
        "    support_neg  = 0\n",
        "    for j_extent in range(len(X_pos)):\n",
        "      inter = intersection(test_extent, X_pos[j_extent])\n",
        "      if len(inter) != 0:\n",
        "        counter = 0\n",
        "        for min_extent in range(len(X_neg)):\n",
        "          if subset(inter, X_neg[min_extent]):\n",
        "            counter += 1\n",
        "        if counter == 0:\n",
        "          support_pos += 1\n",
        "    for k_extent in range(len(X_neg)):\n",
        "      inter = intersection(test_extent, X_neg[k_extent])\n",
        "      if len(inter) != 0:\n",
        "        counter = 0\n",
        "        for max_extent in range(len(X_pos)):\n",
        "          if subset(inter, X_pos[max_extent]):\n",
        "            counter += 1\n",
        "        if counter == 0:\n",
        "          support_neg += 1\n",
        "    if support_neg == support_pos:\n",
        "      predictions.append(random.choice([1, 0]))\n",
        "    elif support_pos > support_neg:\n",
        "      predictions.append(1)\n",
        "    else:\n",
        "      predictions.append(0)\n",
        "  return predictions"
      ],
      "metadata": {
        "id": "QMGrN5fW5HBX"
      },
      "execution_count": 203,
      "outputs": []
    },
    {
      "cell_type": "code",
      "source": [
        "kf = KFold(n_splits=5, random_state=42, shuffle=True)\n",
        "acc_res = []\n",
        "roc_auc_res = []\n",
        "prc_res = []\n",
        "rcl_res = []\n",
        "for train_index, test_index in kf.split(df):\n",
        "    df_dev = df.iloc[train_index]\n",
        "    df_test = df.iloc[test_index]\n",
        " \n",
        "    plus_context = df_dev[df_dev['target'] == 1]\n",
        "    minus_context = df_dev[df_dev['target'] == 0]\n",
        "    \n",
        "    X_plus = plus_context.drop(\"target\", axis = 1).to_dict('records')\n",
        "    X_minus = minus_context.drop(\"target\", axis = 1).to_dict('records')\n",
        " \n",
        "    X_test = df_test.drop(\"target\", axis = 1).to_dict('records')\n",
        "    y_test = df_test[\"target\"].tolist()\n",
        "\n",
        "    answers = baseline_algorithm(X_test, X_plus, X_minus)\n",
        "    acc = metrics.accuracy_score(y_test, answers)\n",
        "    acc_res.append(acc)\n",
        "    roc_auc = metrics.roc_auc_score(y_test, answers)\n",
        "    roc_auc_res.append(roc_auc)\n",
        "    prc = metrics.precision_score(y_test, answers)\n",
        "    prc_res.append(prc)\n",
        "    rcl = metrics.recall_score(y_test, answers) \n",
        "    rcl_res.append(rcl)\n",
        "print(mean(acc_res), mean(roc_auc_res), mean(prc_res), mean(rcl_res))"
      ],
      "metadata": {
        "colab": {
          "base_uri": "https://localhost:8080/"
        },
        "id": "4aXvN50Lajto",
        "outputId": "32183a92-1096-4ae1-ae24-07a7c6cbacbe"
      },
      "execution_count": 224,
      "outputs": [
        {
          "output_type": "stream",
          "name": "stdout",
          "text": [
            "0.6242857142857142 0.6698232323232323 0.6518648018648019 0.6888888888888889\n"
          ]
        }
      ]
    },
    {
      "cell_type": "code",
      "source": [
        "def algorithm_with_threshold(X_test, X_pos, X_neg, threshold = 5):  \n",
        "  predictions = []\n",
        "  for i_obj in range(len(X_test)):\n",
        "\n",
        "    test_extent = X_test[i_obj]\n",
        "    support_pos  = 0\n",
        "    support_neg  = 0\n",
        "    for j_extent in range(len(X_pos)):\n",
        "      inter = intersection(test_extent, X_pos[j_extent])\n",
        "      if len(inter) != 0:\n",
        "        counter = 0\n",
        "        for min_extent in range(len(X_neg)):\n",
        "          if subset(inter, X_neg[min_extent]):\n",
        "            counter += 1\n",
        "        if counter < threshold:\n",
        "          support_pos += 1\n",
        "\n",
        "\n",
        "    for k_extent in range(len(X_neg)):\n",
        "      inter = intersection(test_extent, X_neg[k_extent])\n",
        "      if len(inter) != 0:\n",
        "        counter = 0\n",
        "        for max_extent in range(len(X_pos)):\n",
        "          if subset(inter, X_pos[max_extent]):\n",
        "            counter += 1\n",
        "        if counter < threshold:\n",
        "          support_neg += 1\n",
        "\n",
        "\n",
        "    if support_neg == support_pos:\n",
        "      predictions.append(random.choice([1, 0]))\n",
        "    elif support_pos > support_neg:\n",
        "      predictions.append(1)\n",
        "    else:\n",
        "      predictions.append(0)\n",
        "  return predictions"
      ],
      "metadata": {
        "colab": {
          "base_uri": "https://localhost:8080/"
        },
        "id": "W9lIkNt29y1L",
        "outputId": "61ae58c0-13eb-4a56-d3e1-b5a12bf2a0dd"
      },
      "execution_count": 210,
      "outputs": [
        {
          "output_type": "stream",
          "name": "stdout",
          "text": [
            "0.7519047619047619 0.8016594516594516 0.8405194805194806 0.7277777777777777\n"
          ]
        }
      ]
    },
    {
      "cell_type": "code",
      "source": [
        "x_train, x_test, y_train, y_test = train_test_split(df.drop('target', axis = 1), df['target'], train_size=0.8, random_state=42)"
      ],
      "metadata": {
        "id": "ytnqYMSzEklV"
      },
      "execution_count": 215,
      "outputs": []
    },
    {
      "cell_type": "code",
      "source": [
        "clf = LogisticRegression()\n",
        "clf.fit(x_train, y_train)\n",
        "y_pred = clf.predict(x_test)\n",
        "print(metrics.accuracy_score(y_test, y_pred), metrics.roc_auc_score(y_test, y_pred), metrics.precision_score(y_test, y_pred), metrics.recall_score(y_test, y_pred))"
      ],
      "metadata": {
        "id": "gsiKGHS-933X",
        "colab": {
          "base_uri": "https://localhost:8080/"
        },
        "outputId": "110a4dd6-5865-43a0-bb74-108a2a03770a"
      },
      "execution_count": 218,
      "outputs": [
        {
          "output_type": "stream",
          "name": "stdout",
          "text": [
            "0.7142857142857143 0.6944444444444444 0.7142857142857143 0.5555555555555556\n"
          ]
        }
      ]
    },
    {
      "cell_type": "code",
      "source": [
        ""
      ],
      "metadata": {
        "id": "LqJynQsUFi3D"
      },
      "execution_count": null,
      "outputs": []
    }
  ]
}